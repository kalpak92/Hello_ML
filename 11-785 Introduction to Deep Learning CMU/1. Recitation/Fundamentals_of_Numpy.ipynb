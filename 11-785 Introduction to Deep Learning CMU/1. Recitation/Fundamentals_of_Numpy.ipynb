{
 "cells": [
  {
   "cell_type": "markdown",
   "metadata": {
    "colab": {},
    "colab_type": "code",
    "id": "lElU6KzT1ZFG"
   },
   "source": [
    "# Fundamentals of NumPy"
   ]
  },
  {
   "cell_type": "markdown",
   "metadata": {
    "colab_type": "text",
    "id": "NNuaSAVO4MXv"
   },
   "source": [
    "\n",
    "## Vectors, Tensors and the Index Notation in NumPy\n",
    "\n",
    "## Table of Contents\n",
    "1. Setting-up NumPy\n",
    "2. NumPy Array Initialization\n",
    "3. Pivoting the arrays (reshaping, stacking and indexing)\n",
    "4. Mathematical Operations - matrix multiplication of Arrays\n",
    "5. Padding Arrays"
   ]
  },
  {
   "cell_type": "markdown",
   "metadata": {
    "colab_type": "text",
    "id": "d9t_7nmhpZSS"
   },
   "source": [
    "# 1. Setting up NumPy\n",
    "You can set install NumPy by using the following command\n"
   ]
  },
  {
   "cell_type": "code",
   "execution_count": 1,
   "metadata": {
    "colab": {
     "base_uri": "https://localhost:8080/",
     "height": 224
    },
    "colab_type": "code",
    "id": "j-PhWroS7Hj9",
    "outputId": "b7fda0b6-7392-49e9-b830-1cc8a3f9ef84"
   },
   "outputs": [
    {
     "name": "stdout",
     "output_type": "stream",
     "text": [
      "Name: numpy\n",
      "Version: 1.19.1\n",
      "Summary: NumPy is the fundamental package for array computing with Python.\n",
      "Home-page: https://www.numpy.org\n",
      "Author: Travis E. Oliphant et al.\n",
      "Author-email: None\n",
      "License: BSD\n",
      "Location: /Users/kalpak/anaconda3/lib/python3.7/site-packages\n",
      "Requires: \n",
      "Required-by: torchvision, torch, tables, statsmodels, seaborn, scipy, scikit-learn, PyWavelets, patsy, pandas, numexpr, numba, mkl-random, mkl-fft, matplotlib, imageio, h5py, Bottleneck, bokeh, bkcharts, astropy\n"
     ]
    }
   ],
   "source": [
    "# !pip install numpy\n",
    "## If you want to check the version of numpy you are using or if you want to conifrm if it is installed in your system, you can use the following command:\n",
    "!pip show numpy"
   ]
  },
  {
   "cell_type": "code",
   "execution_count": null,
   "metadata": {
    "colab": {},
    "colab_type": "code",
    "id": "pOw1F9xQQ9Vd"
   },
   "outputs": [],
   "source": [
    "import numpy as np ## Import NumPy library"
   ]
  },
  {
   "cell_type": "markdown",
   "metadata": {
    "colab_type": "text",
    "id": "9gsIMl72Sg9o"
   },
   "source": [
    "# NumPy Arrays\n",
    "\n",
    "An array is a data structure that stores values of same data type. \n",
    "\n",
    "In Python, this is the main difference between arrays and lists."
   ]
  },
  {
   "cell_type": "markdown",
   "metadata": {
    "colab_type": "text",
    "id": "6oMrZUP-Rh0i"
   },
   "source": [
    "## 2. Initializing Numpy Arrays"
   ]
  },
  {
   "cell_type": "code",
   "execution_count": null,
   "metadata": {
    "colab": {
     "base_uri": "https://localhost:8080/",
     "height": 459
    },
    "colab_type": "code",
    "id": "ovnpk6xtRlZC",
    "outputId": "8e96a803-564a-40ce-a347-a7dd7bb693cc"
   },
   "outputs": [
    {
     "name": "stdout",
     "output_type": "stream",
     "text": [
      "First array is:\n",
      " [[0. 0. 0. 0.]\n",
      " [0. 0. 0. 0.]\n",
      " [0. 0. 0. 0.]] \n",
      "\n",
      "Second array is:\n",
      " [[1. 1. 1. 1.]\n",
      " [1. 1. 1. 1.]\n",
      " [1. 1. 1. 1.]] \n",
      "\n",
      "Third array is:\n",
      " [[[0. 0. 0. 0. 0.]\n",
      "  [0. 0. 0. 0. 0.]\n",
      "  [0. 0. 0. 0. 0.]\n",
      "  [0. 0. 0. 0. 0.]]\n",
      "\n",
      " [[0. 0. 0. 0. 0.]\n",
      "  [0. 0. 0. 0. 0.]\n",
      "  [0. 0. 0. 0. 0.]\n",
      "  [0. 0. 0. 0. 0.]]\n",
      "\n",
      " [[0. 0. 0. 0. 0.]\n",
      "  [0. 0. 0. 0. 0.]\n",
      "  [0. 0. 0. 0. 0.]\n",
      "  [0. 0. 0. 0. 0.]]] \n",
      "\n"
     ]
    }
   ],
   "source": [
    "new_array1 = np.zeros((3, 4))\n",
    "new_array2 = np.ones((3, 4))\n",
    "new_array3 = np.zeros((3, 4, 5))\n",
    "\n",
    "print(\"First array is:\\n\", new_array1, \"\\n\")\n",
    "print(\"Second array is:\\n\", new_array2, \"\\n\")\n",
    "print(\"Third array is:\\n\", new_array3, \"\\n\")"
   ]
  },
  {
   "cell_type": "markdown",
   "metadata": {
    "colab_type": "text",
    "id": "JC73KBhMSRzc"
   },
   "source": [
    "Initializing NumPy arrays with random uniform distribution and integers"
   ]
  },
  {
   "cell_type": "code",
   "execution_count": null,
   "metadata": {
    "colab": {
     "base_uri": "https://localhost:8080/",
     "height": 204
    },
    "colab_type": "code",
    "id": "rjAOYw-mSRFD",
    "outputId": "b328fc13-a242-40b9-d17d-9b6bc295b272"
   },
   "outputs": [
    {
     "name": "stdout",
     "output_type": "stream",
     "text": [
      "First array is:\n",
      " [[ 0.54836006 -1.09790719  0.68499552  0.24352909]\n",
      " [-0.75137635  0.50689124  1.80352967 -0.2791944 ]\n",
      " [ 0.54733619 -0.90171761  1.39432855  0.82409763]] \n",
      "\n",
      "Second array is:\n",
      " [[2 0 0 1 1]\n",
      " [1 2 0 0 2]\n",
      " [2 2 0 0 0]\n",
      " [1 0 0 2 1]] \n",
      "\n"
     ]
    }
   ],
   "source": [
    "new_array1 = np.random.randn(3, 4) #random NumPy array with uniformly distributed numbers\n",
    "new_array2 = np.random.randint(3, size = (4, 5)) #random NumPy array with randomly distributed integers in the range [0, 3)\n",
    "\n",
    "\n",
    "print(\"First array is:\\n\", new_array1, \"\\n\")\n",
    "print(\"Second array is:\\n\", new_array2, \"\\n\")"
   ]
  },
  {
   "cell_type": "markdown",
   "metadata": {
    "colab_type": "text",
    "id": "JHHhw6FLT78-"
   },
   "source": [
    "Converting existing data structures to a NumPy array"
   ]
  },
  {
   "cell_type": "code",
   "execution_count": null,
   "metadata": {
    "colab": {
     "base_uri": "https://localhost:8080/",
     "height": 68
    },
    "colab_type": "code",
    "id": "Xwxd5gbyUA7Z",
    "outputId": "e2ef77d4-5787-427c-baff-882790231530"
   },
   "outputs": [
    {
     "name": "stdout",
     "output_type": "stream",
     "text": [
      "[1, 2, 3, 4, 5] <class 'list'> \n",
      "\n",
      "[1 2 3 4 5] <class 'numpy.ndarray'>\n"
     ]
    }
   ],
   "source": [
    "#Converting a list to numpy array\n",
    "\n",
    "list1 = [1, 2, 3, 4, 5]\n",
    "list_toarray = np.array(list1)\n",
    "\n",
    "print(list1, type(list1), \"\\n\")\n",
    "print(list_toarray, type(list_toarray))"
   ]
  },
  {
   "cell_type": "markdown",
   "metadata": {
    "colab_type": "text",
    "id": "FZucQppsDLPl"
   },
   "source": [
    "#3. Pivoting Arrays\n",
    "\n",
    "Changing dimensions of a NumPy array:\n",
    "1. Transpose\n",
    "2. Reshape\n",
    "3. Flattem\n",
    "4. Squeeze"
   ]
  },
  {
   "cell_type": "code",
   "execution_count": null,
   "metadata": {
    "colab": {
     "base_uri": "https://localhost:8080/",
     "height": 969
    },
    "colab_type": "code",
    "id": "WK053awADQmq",
    "outputId": "99702bb6-9ef4-408d-8cc8-12b9349ae5c4"
   },
   "outputs": [
    {
     "name": "stdout",
     "output_type": "stream",
     "text": [
      "[[[4 1 1 1 2]\n",
      "  [1 0 3 4 3]\n",
      "  [4 4 1 1 2]\n",
      "  [1 2 3 0 4]]\n",
      "\n",
      " [[1 1 0 2 1]\n",
      "  [1 0 2 3 1]\n",
      "  [0 4 1 2 4]\n",
      "  [2 0 1 3 1]]\n",
      "\n",
      " [[4 1 3 3 4]\n",
      "  [1 2 2 1 0]\n",
      "  [2 3 2 0 2]\n",
      "  [4 4 2 1 1]]] \n",
      "\n",
      "The transposed array looks like: \n",
      " [[[4 1 4]\n",
      "  [1 1 1]\n",
      "  [4 0 2]\n",
      "  [1 2 4]]\n",
      "\n",
      " [[1 1 1]\n",
      "  [0 0 2]\n",
      "  [4 4 3]\n",
      "  [2 0 4]]\n",
      "\n",
      " [[1 0 3]\n",
      "  [3 2 2]\n",
      "  [1 1 2]\n",
      "  [3 1 2]]\n",
      "\n",
      " [[1 2 3]\n",
      "  [4 3 1]\n",
      "  [1 2 0]\n",
      "  [0 3 1]]\n",
      "\n",
      " [[2 1 4]\n",
      "  [3 1 0]\n",
      "  [2 4 2]\n",
      "  [4 1 1]]]\n",
      "(5, 4, 3) \n",
      "\n",
      "The reshaped array looks like \n",
      " [[4 1 1 1 2]\n",
      " [1 0 3 4 3]\n",
      " [4 4 1 1 2]\n",
      " [1 2 3 0 4]\n",
      " [1 1 0 2 1]\n",
      " [1 0 2 3 1]\n",
      " [0 4 1 2 4]\n",
      " [2 0 1 3 1]\n",
      " [4 1 3 3 4]\n",
      " [1 2 2 1 0]\n",
      " [2 3 2 0 2]\n",
      " [4 4 2 1 1]] \n",
      " (12, 5)\n"
     ]
    }
   ],
   "source": [
    "array = np.random.randint(5, size = (3, 4, 5))\n",
    "print(array, \"\\n\")\n",
    "\n",
    "## Transpose the array\n",
    "\n",
    "\"\"\"\n",
    "Transpose is used to reverse or permute the axes of the array. You can specify which axes you want to use for your transpose operation using the \"axes\"\n",
    "parameter in np.tranpose.\n",
    "\"\"\"\n",
    "\n",
    "transposed_array = np.transpose(array)\n",
    "\n",
    "print(\"The transposed array looks like: \\n\", transposed_array)\n",
    "print(transposed_array.shape, \"\\n\")\n",
    "\n",
    "## Reshaping the array\n",
    "\n",
    "\"\"\"\n",
    "Using reshape we can specify the desired shape of the array that we want to end up with. Here we go from rank 3 to rank 2.\n",
    "\"\"\"\n",
    "\n",
    "reshaped_array = np.reshape(array, (12, 5)) ## Here 'F' stands for Fotran style, there are many other ways of reshaping, please check numpy official documentation\n",
    "print(\"The reshaped array looks like \\n\", reshaped_array, \"\\n\", reshaped_array.shape)"
   ]
  },
  {
   "cell_type": "code",
   "execution_count": null,
   "metadata": {
    "colab": {
     "base_uri": "https://localhost:8080/",
     "height": 425
    },
    "colab_type": "code",
    "id": "AsKQusbwE5Vg",
    "outputId": "1d42b8c7-c4be-42fb-849e-36a3681614bc"
   },
   "outputs": [
    {
     "name": "stdout",
     "output_type": "stream",
     "text": [
      "[4 1 1 1 2 1 0 3 4 3 4 4 1 1 2 1 2 3 0 4 1 1 0 2 1 1 0 2 3 1 0 4 1 2 4 2 0\n",
      " 1 3 1 4 1 3 3 4 1 2 2 1 0 2 3 2 0 2 4 4 2 1 1] \n",
      " The dimension of the flattened array is: (60,) \n",
      "\n",
      "Example of array with single dimension in one of the axis \n",
      " [[[2 0 1]]\n",
      "\n",
      " [[0 0 2]]\n",
      "\n",
      " [[1 1 1]]\n",
      "\n",
      " [[1 1 1]]\n",
      "\n",
      " [[0 1 1]]\n",
      "\n",
      " [[1 0 1]]]\n",
      "The squeezed array is \n",
      " [[2 0 1]\n",
      " [0 0 2]\n",
      " [1 1 1]\n",
      " [1 1 1]\n",
      " [0 1 1]\n",
      " [1 0 1]] \n",
      " and the dimension is (6, 3)\n"
     ]
    }
   ],
   "source": [
    "## Flattening the numpy array\n",
    "\n",
    "\"\"\"\n",
    "The flatten operation changes the shape of the array to a 1-D format, and will contain all the elements which existed in the original array.\n",
    "\"\"\"\n",
    "\n",
    "flattened_array = array.flatten()\n",
    "print(flattened_array, \"\\n\", \"The dimension of the flattened array is:\", flattened_array.shape, \"\\n\")\n",
    "\n",
    "\n",
    "## Squeezing a NumPy array\n",
    "\n",
    "\"\"\"\n",
    "The squeeze function helps in removing the single dimension entries from the size of your array. If a shape entry of greater than one is selected you \n",
    "will receive an error. \n",
    "\"\"\"\n",
    "\n",
    "new_array = np.random.randint(3, size = (6, 1, 3))\n",
    "print(\"Example of array with single dimension in one of the axis \\n\", new_array)\n",
    "\n",
    "\n",
    "squeezed_array = np.squeeze(new_array, axis = 1)\n",
    "\n",
    "print(\"The squeezed array is \\n\",  squeezed_array, \"\\n and the dimension is\", squeezed_array.shape)"
   ]
  },
  {
   "cell_type": "markdown",
   "metadata": {
    "colab_type": "text",
    "id": "_BpZpRBX--1U"
   },
   "source": [
    "###Stacking (Combining Tensors)\n",
    "####Concating and stacking NumPy arrays\n",
    "\n",
    "Stacking and cocatenating the arrays will come very handy for the assignment part two, especially where will you be required to join arrays to reduce the computational complexity."
   ]
  },
  {
   "cell_type": "code",
   "execution_count": null,
   "metadata": {
    "colab": {
     "base_uri": "https://localhost:8080/",
     "height": 1000
    },
    "colab_type": "code",
    "id": "I8dkqQdl7Jr3",
    "outputId": "c31ce09a-4a10-428c-a0b9-2e2b97f17f24"
   },
   "outputs": [
    {
     "name": "stdout",
     "output_type": "stream",
     "text": [
      "Array 1 is \n",
      " [[[2 0 0 2 0]\n",
      "  [2 2 1 2 2]\n",
      "  [2 0 1 2 0]\n",
      "  [2 1 1 1 1]]\n",
      "\n",
      " [[1 1 2 2 0]\n",
      "  [1 1 2 2 1]\n",
      "  [1 1 2 1 1]\n",
      "  [2 2 1 1 2]]\n",
      "\n",
      " [[0 1 1 2 1]\n",
      "  [0 2 2 1 1]\n",
      "  [2 0 1 1 2]\n",
      "  [1 2 1 2 1]]] \n",
      "\n",
      "\n",
      "Array 2 is \n",
      " [[[1 0 3 1 0]\n",
      "  [2 1 1 1 3]\n",
      "  [1 0 1 2 1]\n",
      "  [2 0 2 3 2]]\n",
      "\n",
      " [[3 0 0 0 1]\n",
      "  [2 1 0 3 0]\n",
      "  [2 1 3 0 1]\n",
      "  [0 3 1 0 1]]\n",
      "\n",
      " [[3 1 3 1 2]\n",
      "  [3 3 2 2 0]\n",
      "  [1 1 3 2 1]\n",
      "  [1 1 3 3 3]]] \n",
      "\n",
      "\n",
      "Concatenated array is \n",
      " [[[2 0 0 2 0]\n",
      "  [2 2 1 2 2]\n",
      "  [2 0 1 2 0]\n",
      "  [2 1 1 1 1]]\n",
      "\n",
      " [[1 1 2 2 0]\n",
      "  [1 1 2 2 1]\n",
      "  [1 1 2 1 1]\n",
      "  [2 2 1 1 2]]\n",
      "\n",
      " [[0 1 1 2 1]\n",
      "  [0 2 2 1 1]\n",
      "  [2 0 1 1 2]\n",
      "  [1 2 1 2 1]]\n",
      "\n",
      " [[1 0 3 1 0]\n",
      "  [2 1 1 1 3]\n",
      "  [1 0 1 2 1]\n",
      "  [2 0 2 3 2]]\n",
      "\n",
      " [[3 0 0 0 1]\n",
      "  [2 1 0 3 0]\n",
      "  [2 1 3 0 1]\n",
      "  [0 3 1 0 1]]\n",
      "\n",
      " [[3 1 3 1 2]\n",
      "  [3 3 2 2 0]\n",
      "  [1 1 3 2 1]\n",
      "  [1 1 3 3 3]]] \n",
      "\n",
      " and the dimensions of the concatenated array are: \n",
      " (6, 4, 5)\n"
     ]
    }
   ],
   "source": [
    "\"\"\"Three main types of stacking operations exists in NumPy: hstack vstack and concatenate. \n",
    "Here we show you the example of np.concatenate. \n",
    "To learn more about hstack and vstack, please see: https://scipython.com/book/chapter-6-numpy/examples/vstack-and-hstack/\n",
    "\"\"\"\n",
    "array1 = np.random.randint(3, size = (3, 4, 5))\n",
    "array2 = np.random.randint(4, size = (3, 4, 5))\n",
    "\n",
    "concatenated_array = np.concatenate((array1, array2), axis = 0) \n",
    "\n",
    "\"\"\"\n",
    "Make sure you understand the problem well enough to determine which axis should be used to join the arrays, here we use the first axis.\n",
    "The resultant array after the concatenation operation depends on the shape of the original arrays used as arguments to pass into the concatenation function.\n",
    "\"\"\"\n",
    "print(\"Array 1 is \\n\", array1, \"\\n\\n\")\n",
    "print(\"Array 2 is \\n\", array2, \"\\n\\n\")\n",
    "print(\"Concatenated array is \\n\", concatenated_array, \"\\n\\n\", \"and the dimensions of the concatenated array are: \\n\", concatenated_array.shape)"
   ]
  },
  {
   "cell_type": "markdown",
   "metadata": {
    "colab_type": "text",
    "id": "LXyeUGG17K_a"
   },
   "source": [
    "###Indexing Arrays"
   ]
  },
  {
   "cell_type": "code",
   "execution_count": null,
   "metadata": {
    "colab": {
     "base_uri": "https://localhost:8080/",
     "height": 1000
    },
    "colab_type": "code",
    "id": "l16IvvwA7Nj4",
    "outputId": "67ba1309-e567-4020-ee52-7e99751e9ac5"
   },
   "outputs": [
    {
     "name": "stdout",
     "output_type": "stream",
     "text": [
      "Original array:\n",
      " [[[5 3 3 1 6]\n",
      "  [6 2 6 3 5]\n",
      "  [6 0 1 0 5]\n",
      "  [2 2 5 5 6]]\n",
      "\n",
      " [[2 6 2 2 1]\n",
      "  [1 4 3 1 4]\n",
      "  [6 5 3 1 6]\n",
      "  [5 5 3 1 1]]\n",
      "\n",
      " [[4 6 2 6 0]\n",
      "  [4 2 0 1 2]\n",
      "  [0 0 2 0 5]\n",
      "  [6 0 5 5 6]]] \n",
      "\n",
      "array[0][0][0]\n",
      " 5 \n",
      "\n",
      "\n",
      "array[1,2,3]\n",
      " 1\n",
      "array[-1,-1][-1]\n",
      " 6 \n",
      "\n",
      "\n",
      "Indexing the array\n",
      "array[0]\n",
      " [[5 3 3 1 6]\n",
      " [6 2 6 3 5]\n",
      " [6 0 1 0 5]\n",
      " [2 2 5 5 6]] \n",
      "\n",
      "\n",
      "array[:1]\n",
      " [[[5 3 3 1 6]\n",
      "  [6 2 6 3 5]\n",
      "  [6 0 1 0 5]\n",
      "  [2 2 5 5 6]]] \n",
      "\n",
      "\n",
      "array[:,1]\n",
      " [[6 2 6 3 5]\n",
      " [1 4 3 1 4]\n",
      " [4 2 0 1 2]] \n",
      "\n",
      "\n",
      "array[:,:,3]\n",
      " [[1 3 0 5]\n",
      " [2 1 1 1]\n",
      " [6 1 0 5]] \n",
      "\n",
      "\n",
      "array[:,:,-2:]\n",
      " [[[1 6]\n",
      "  [3 5]\n",
      "  [0 5]\n",
      "  [5 6]]\n",
      "\n",
      " [[2 1]\n",
      "  [1 4]\n",
      "  [1 6]\n",
      "  [1 1]]\n",
      "\n",
      " [[6 0]\n",
      "  [1 2]\n",
      "  [0 5]\n",
      "  [5 6]]] \n",
      "\n",
      "\n"
     ]
    }
   ],
   "source": [
    "\"\"\"\n",
    "Indexing is nothing but using the location of an element in an array to extract it.\n",
    "\"\"\"\n",
    "\n",
    "array = np.random.randint(7, size=(3,4,5))\n",
    "\n",
    "print('Original array:\\n', array, '\\n')\n",
    "\n",
    "# Indexing to access  individual elements in an Array\n",
    "print('array[0][0][0]\\n', array[0][0][0], '\\n\\n')\n",
    "print('array[1,2,3]\\n', array[1,2,3]), '\\n\\n'\n",
    "print('array[-1,-1][-1]\\n', array[-1,-1][-1], '\\n\\n')\n",
    "\n",
    "# Array Slicing\n",
    "\n",
    "\"\"\"\n",
    "Array slicing is used to obtain/extract a subset of elements in an array.\n",
    "\"\"\"\n",
    "print(\"Indexing the array\")\n",
    "print('array[0]\\n', array[0], '\\n\\n') #extracting all elements from first axis at zeroth location\n",
    "print('array[:1]\\n', array[:1], '\\n\\n') #\n",
    "print('array[:,1]\\n', array[:,1], '\\n\\n')\n",
    "print('array[:,:,3]\\n', array[:,:,3], '\\n\\n')\n",
    "print('array[:,:,-2:]\\n', array[:,:,-2:], '\\n\\n')"
   ]
  },
  {
   "cell_type": "markdown",
   "metadata": {
    "colab_type": "text",
    "id": "o9GBK2Vv7T5T"
   },
   "source": [
    "#4. Mathematical Operations - Matrix Multiplcation of Arrays"
   ]
  },
  {
   "cell_type": "markdown",
   "metadata": {
    "colab_type": "text",
    "id": "ETQxiKqv7aUI"
   },
   "source": [
    "###Element-wise multiplication"
   ]
  },
  {
   "cell_type": "code",
   "execution_count": null,
   "metadata": {
    "colab": {
     "base_uri": "https://localhost:8080/",
     "height": 629
    },
    "colab_type": "code",
    "id": "33RcgA1E7eqc",
    "outputId": "fc87f855-74a1-4d1c-d87a-031108f73a17"
   },
   "outputs": [
    {
     "name": "stdout",
     "output_type": "stream",
     "text": [
      "First array, array1 is \n",
      ": [[[4 2 0 4 0]\n",
      "  [3 4 2 4 3]\n",
      "  [3 0 0 4 4]\n",
      "  [2 2 3 0 3]]\n",
      "\n",
      " [[3 2 1 1 3]\n",
      "  [1 3 4 4 1]\n",
      "  [0 0 1 2 3]\n",
      "  [2 4 1 1 1]]] \n",
      "\n",
      "Second array, array2 is \n",
      ": [[[4 5 2 3 1]\n",
      "  [4 0 0 3 3]\n",
      "  [4 0 0 0 1]\n",
      "  [3 0 5 3 2]]\n",
      "\n",
      " [[1 0 5 3 2]\n",
      "  [2 3 0 5 4]\n",
      "  [5 3 5 3 3]\n",
      "  [3 3 3 1 1]]] \n",
      "\n",
      "The element wise product is \n",
      " [[[16 10  0 12  0]\n",
      "  [12  0  0 12  9]\n",
      "  [12  0  0  0  4]\n",
      "  [ 6  0 15  0  6]]\n",
      "\n",
      " [[ 3  0  5  3  6]\n",
      "  [ 2  9  0 20  4]\n",
      "  [ 0  0  5  6  9]\n",
      "  [ 6 12  3  1  1]]] \n",
      " and the dimension of the resulting product is \n",
      "\n",
      " (2, 4, 5) \n",
      "\n"
     ]
    }
   ],
   "source": [
    "\"\"\" This is also known as hadmarad product.\n",
    "Two arrays (array1 and array2) of the same dimension are multiplied to get a resultant array of the same dimension. Each element (i, j) of the array1 \n",
    "is multiplied with (i, j) of array2 to get the resultant array.\n",
    "\"\"\"\n",
    "\n",
    "\n",
    "array1 = np.random.randint(5, size = (2, 4, 5))\n",
    "array2 = np.random.randint(6, size = (2, 4, 5))\n",
    "\n",
    "Hadmarad_product = np.multiply(array1, array2) #Which is also equivalent to array1*array2\n",
    "print(\"First array, array1 is \\n:\", array1, \"\\n\")\n",
    "print(\"Second array, array2 is \\n:\", array2, \"\\n\")\n",
    "print(\"The element wise product is \\n\", Hadmarad_product, \"\\n and the dimension of the resulting product is\",  \"\\n\\n\",  Hadmarad_product.shape, \"\\n\")\n",
    "\n"
   ]
  },
  {
   "cell_type": "markdown",
   "metadata": {
    "colab_type": "text",
    "id": "tJXKPXGj7gmE"
   },
   "source": [
    "###Other Multiplications\n",
    "\n",
    "You are expected to familiarize yourself with Dot Product and TensorDot along with Elementwise multiplication. While going through PyTorch recitation, make sure to review batch-matrix multiplication examples thoroughly as they will be very helpful in the Natural Language Processing assignments.\n",
    "\n",
    "\n",
    "Here is an example of matrix array multiplication between a $3 \\times 1$ matrix array and a $1 \\times 3$ matrix array:\n",
    "$$\n",
    "\\boldsymbol{u} \\boldsymbol{v}^T=\n",
    "\\left(\\begin{array}{cc} \n",
    "u_1 \\\\\n",
    "u_2 \\\\\n",
    "u_3\n",
    "\\end{array}\\right)\n",
    "\\left(\\begin{array}{cc} \n",
    "v_1 & v_2 & v_3\n",
    "\\end{array}\\right)\n",
    "=\n",
    "\\left(\\begin{array}{cc} \n",
    "u_1v_1 & u_1v_2 & u_1v_3\\\\\n",
    "u_2v_1 & u_2v_2 & u_2v_3\\\\\n",
    "u_3v_1 & u_3v_2 & u_3v_3\n",
    "\\end{array}\\right)\n",
    "$$ "
   ]
  },
  {
   "cell_type": "code",
   "execution_count": null,
   "metadata": {
    "colab": {
     "base_uri": "https://localhost:8080/",
     "height": 663
    },
    "colab_type": "code",
    "id": "fM5qr3Du7rP0",
    "outputId": "2d018ff3-1fff-4b46-b14a-af6f48aeb4a9"
   },
   "outputs": [
    {
     "name": "stdout",
     "output_type": "stream",
     "text": [
      "Array1 \n",
      " [-0.05789139  0.439855    0.92258965]\n",
      "Array2 \n",
      " [ 1.25150108 -1.92303833  0.01576201]\n",
      "Matmul of the two arrays can be derived by using np.matmul(array1, array2) \n",
      " -0.9037672967633497\n",
      "Matmul of the two arrays can also be derived by using array1@array2 \n",
      " -0.9037672967633497\n",
      "Dimensions of resulting product: \n",
      " ()\n",
      "Array3 \n",
      " [[-1.03331536  0.38760718 -0.16636541  0.20838419]\n",
      " [ 2.50668619  0.06242275  0.74537117 -1.40103928]\n",
      " [-0.05739369 -1.74074739 -1.37376479  0.57244201]] \n",
      "\n",
      "Array4 \n",
      " [-1.03176142 -0.05445851  1.08532057 -1.19150946] \n",
      "\n",
      "Matmul of the a vector and a matrix can be derived by using np.matmul(array3, array4) \n",
      " [ 0.61617488 -0.11138332 -2.01903015]\n",
      "Matmul of the a vector and a matrix can also be derived by using array3@array4 \n",
      " [ 0.61617488 -0.11138332 -2.01903015]\n",
      "Dimensions of resulting product: \n",
      " (3,)\n",
      "Using DOT: product= \n",
      "\n",
      " [[16  7]\n",
      " [ 8  4]] \n",
      "\n",
      "product.shape = (2, 2)\n",
      "\n",
      "\n",
      "Using einsum: product= \n",
      "\n",
      " [[16  7]\n",
      " [ 8  4]] \n",
      "\n",
      "product.shape = (2, 2)\n"
     ]
    }
   ],
   "source": [
    "# Vector/Matrix operations\n",
    "# Basic matrix and vector operations which will be useful for assignments\n",
    "\n",
    "# vector x vector\n",
    "array1 = np.random.randn(3)\n",
    "array2 = np.random.randn(3)\n",
    "\n",
    "print('Array1 \\n', array1)\n",
    "print('Array2 \\n', array2)\n",
    "\n",
    "print('Matmul of the two arrays can be derived by using np.matmul(array1, array2) \\n', np.matmul(array1, array2))\n",
    "print(\"Matmul of the two arrays can also be derived by using array1@array2 \\n\", array1@array2)\n",
    "print('Dimensions of resulting product: \\n', np.matmul(array1, array2).shape)\n",
    "\n",
    "# Matrix x Vector\n",
    "array3 = np.random.randn(3, 4)\n",
    "array4 = np.random.randn(4)\n",
    "\n",
    "print('Array3 \\n', array3, \"\\n\")\n",
    "print('Array4 \\n', array4, \"\\n\")\n",
    "\n",
    "\n",
    "print('Matmul of the a vector and a matrix can be derived by using np.matmul(array3, array4) \\n', np.matmul(array3, array4))\n",
    "print('Matmul of the a vector and a matrix can also be derived by using array3@array4 \\n', array3@array4)\n",
    "print('Dimensions of resulting product: \\n', np.matmul(array3, array4).shape)\n",
    "\n",
    "## Matrix x Matrix \n",
    "\n",
    "matrix1 = np.random.randint(4, size = (2, 3))\n",
    "matrix2 = np.random.randint(4, size = (3, 2))\n",
    "\n",
    "product = matrix1.dot(matrix2)\n",
    "\n",
    "print('Using DOT: product= \\n\\n', product, '\\n\\nproduct.shape =', product.shape)\n",
    "print(\"array3@array4 is an equivalent way of dot product \\n\", matrix1@matrix2, '\\n\\nproduct.shape =', (matrix1@matrix2).shape)\n",
    "\n",
    "# Using einsum\n",
    "product = np.einsum('ik, kj', matrix1, matrix2)\n",
    "print('\\n\\nUsing einsum: product= \\n\\n', product, '\\n\\nproduct.shape =', product.shape)\n",
    "\n",
    "# Note, the above einsum notation is equivalent to the following\n",
    "product = np.einsum('ik, kj -> ij', matrix1, matrix2)\n"
   ]
  },
  {
   "cell_type": "markdown",
   "metadata": {
    "colab_type": "text",
    "id": "o8efI6437-_y"
   },
   "source": [
    "\n",
    "\n",
    "###Tensordot\n",
    "\n",
    "Understanding tensordot function will help you in writing succint code for your homeworks especially in Convolutional Neural Net assignment.\n",
    "\n",
    "To give a brief overview: \n",
    "We input the arrays and the respective axes along which the sum-reductions are intended. The axes that take part in sum-reduction are removed in the output and all of the remaining axes from the input arrays are spread-out as different axes in the output keeping the order in which the input arrays are fed.\n",
    "\n",
    "To understand in depth please checkout: https://stackoverflow.com/questions/41870228/understanding-tensordot"
   ]
  },
  {
   "cell_type": "code",
   "execution_count": null,
   "metadata": {
    "colab": {
     "base_uri": "https://localhost:8080/",
     "height": 379
    },
    "colab_type": "code",
    "id": "52_2zIMx8AHZ",
    "outputId": "af526d29-12d6-4dd9-dc7f-7e5949964ef6"
   },
   "outputs": [
    {
     "name": "stdout",
     "output_type": "stream",
     "text": [
      "A = \n",
      " [7 1 1]\n",
      "B = \n",
      " [[2 2 3 2]\n",
      " [3 5 4 2]\n",
      " [6 0 1 8]\n",
      " [2 7 1 0]]\n",
      "A⨂B =\n",
      " [[[14 14 21 14]\n",
      "  [21 35 28 14]\n",
      "  [42  0  7 56]\n",
      "  [14 49  7  0]]\n",
      "\n",
      " [[ 2  2  3  2]\n",
      "  [ 3  5  4  2]\n",
      "  [ 6  0  1  8]\n",
      "  [ 2  7  1  0]]\n",
      "\n",
      " [[ 2  2  3  2]\n",
      "  [ 3  5  4  2]\n",
      "  [ 6  0  1  8]\n",
      "  [ 2  7  1  0]]]\n"
     ]
    }
   ],
   "source": [
    "A = np.random.randint(9, size=(3))\n",
    "B = np.random.randint(9, size=(4,4))\n",
    "\n",
    "print(\"A = \\n\", A)\n",
    "\n",
    "print(\"B = \\n\", B)\n",
    "\n",
    "print(\"A⨂B =\\n\", np.tensordot(A, B, axes=0))"
   ]
  },
  {
   "cell_type": "markdown",
   "metadata": {
    "colab_type": "text",
    "id": "s6PGbLT3_Yzm"
   },
   "source": [
    "###Sum\n",
    "\n",
    "These can also be considered as reduction operations. NumPy supports all commonly used mathematical reduction operations such as sum(), mean(), std(), max(), argmax(), unique() etc. These can either be applied on the entire tensor or along specific dimensions.\n",
    "\n",
    "Please refer to additional NumPy documnetation to familiarize yourself with all operations. The examples below are merely indicative of one reference function.\n",
    "Link: https://numpy.org/doc/stable/reference/"
   ]
  },
  {
   "cell_type": "code",
   "execution_count": null,
   "metadata": {
    "colab": {
     "base_uri": "https://localhost:8080/",
     "height": 379
    },
    "colab_type": "code",
    "id": "ILnDuFqT_ak3",
    "outputId": "684a07bc-3120-4f23-c8e5-9b980cd06811"
   },
   "outputs": [
    {
     "name": "stdout",
     "output_type": "stream",
     "text": [
      "Original array1: \n",
      " [2 2 1]\n",
      "Original array2: \n",
      " [[2 1 2 1]\n",
      " [1 1 0 1]\n",
      " [0 2 1 2]]\n",
      "Sum of array1 \n",
      " 5 \n",
      "\n",
      "\n",
      "Sum of array2 \n",
      " 14 \n",
      "\n",
      "\n",
      "Sum of array2 elements along axis 0 \n",
      " [3 4 3 4] \n",
      "\n",
      "\n",
      "Sum of array2 elements along axis 1 \n",
      " [6 3 5] \n",
      "\n",
      "\n"
     ]
    }
   ],
   "source": [
    "\n",
    "\n",
    "array1 = np.random.randint(3, size = (3))\n",
    "array2 = np.random.randint(3, size=(3,4))\n",
    "\n",
    "print('Original array1: \\n', array1)\n",
    "\n",
    "print('Original array2: \\n', array2)\n",
    "\n",
    "print('Sum of array1 \\n', array1.sum(), \"\\n\\n\")\n",
    "print('Sum of array2 \\n', array2.sum(), \"\\n\\n\")\n",
    "\n",
    "print('Sum of array2 elements along axis 0 \\n', array2.sum(axis=0), \"\\n\\n\")\n",
    "\n",
    "print('Sum of array2 elements along axis 1 \\n', array2.sum(axis=1), \"\\n\\n\")"
   ]
  },
  {
   "cell_type": "markdown",
   "metadata": {
    "colab_type": "text",
    "id": "YnvALRfVvexg"
   },
   "source": [
    "#5. Padding Arrays\n",
    "\n",
    "Arrays need to be padded to ensure that computations can be optimized by transfroming the underlying data to become of the same size."
   ]
  },
  {
   "cell_type": "code",
   "execution_count": null,
   "metadata": {
    "colab": {
     "base_uri": "https://localhost:8080/",
     "height": 594
    },
    "colab_type": "code",
    "id": "mUdqKT1yviJc",
    "outputId": "7cc61a34-49bb-46f4-ceb6-1fbfc79a8460"
   },
   "outputs": [
    {
     "name": "stdout",
     "output_type": "stream",
     "text": [
      "A =\n",
      " [array([[3, 1, 4, 1],\n",
      "       [5, 9, 2, 6],\n",
      "       [5, 3, 5, 8]])\n",
      " array([[9, 7, 9, 3],\n",
      "       [2, 3, 8, 4]])\n",
      " array([[3, 3, 8, 3],\n",
      "       [2, 7, 9, 5],\n",
      "       [0, 2, 8, 8],\n",
      "       [6, 2, 6, 4]])]\n",
      "A =\n",
      " [array([[3, 1, 4, 1],\n",
      "       [5, 9, 2, 6],\n",
      "       [5, 3, 5, 8]])\n",
      " array([[9, 7, 9, 3],\n",
      "       [2, 3, 8, 4]])\n",
      " array([[3, 3, 8, 3],\n",
      "       [2, 7, 9, 5],\n",
      "       [0, 2, 8, 8],\n",
      "       [6, 2, 6, 4]])]\n",
      "A3 =\n",
      " [[[3 1 4 1]\n",
      "  [5 9 2 6]\n",
      "  [5 3 5 8]\n",
      "  [0 0 0 0]]\n",
      "\n",
      " [[9 7 9 3]\n",
      "  [2 3 8 4]\n",
      "  [0 0 0 0]\n",
      "  [0 0 0 0]]\n",
      "\n",
      " [[3 3 8 3]\n",
      "  [2 7 9 5]\n",
      "  [0 2 8 8]\n",
      "  [6 2 6 4]]]\n"
     ]
    }
   ],
   "source": [
    "##Padding arrays at the bottom\n",
    "a1 = np.array([np.array([3, 1, 4, 1]), \n",
    "               np.array([5, 9, 2, 6]), \n",
    "               np.array([5, 3, 5, 8])])\n",
    "\n",
    "\"\"\"\n",
    "Shape 3x4\n",
    "\"\"\"\n",
    "\n",
    "a2 = np.array([np.array([9, 7, 9, 3]),\n",
    "               np.array([2, 3, 8, 4])])\n",
    "\n",
    "\"\"\"\n",
    "Shape 2x4\n",
    "\"\"\"\n",
    "\n",
    "a3 = np.array([np.array([3, 3, 8, 3]), \n",
    "               np.array([2, 7, 9, 5]),\n",
    "               np.array([0, 2, 8, 8]), \n",
    "               np.array([6, 2, 6, 4])])\n",
    "\n",
    "\"\"\"\n",
    "Shape 4x4\n",
    "\"\"\"\n",
    "\n",
    "A = np.array([a1, a2, a3])\n",
    "\n",
    "print(\"A =\\n\", A.T)\n",
    "pad_below1 = 4 - len(a1)\n",
    "pad_below2 = 4 - len(a2)\n",
    "pad_below3 = 4 - len(a3)\n",
    "\n",
    "pad_above = 0\n",
    "pad_left = 0\n",
    "par_right = 0\n",
    "\n",
    "n_add = [((pad_above, pad_below1), (pad_left, par_right)), \n",
    "         ((pad_above, pad_below2), (pad_left, par_right)), \n",
    "         ((pad_above, pad_below3), (pad_left, par_right)) ]\n",
    "\n",
    "A3 = [np.pad(A[i], pad_width = n_add[i], mode = 'constant', constant_values = 0) for i in range(3)]\n",
    "A3 = np.array(A3)\n",
    "\n",
    "print(\"A =\\n\", A)\n",
    "\n",
    "\n",
    "print(\"A3 =\\n\", A3)"
   ]
  },
  {
   "cell_type": "code",
   "execution_count": null,
   "metadata": {
    "colab": {
     "base_uri": "https://localhost:8080/",
     "height": 429
    },
    "colab_type": "code",
    "id": "pJhR-FDCwyHH",
    "outputId": "dcbdccb0-082b-490e-aded-55d1ec1ca46d"
   },
   "outputs": [
    {
     "name": "stdout",
     "output_type": "stream",
     "text": [
      "A =\n",
      " [array([[3, 1, 4, 1],\n",
      "       [5, 9, 2, 6],\n",
      "       [5, 3, 5, 8]])\n",
      " array([[9, 7, 9, 3],\n",
      "       [2, 3, 8, 4]])\n",
      " array([[3, 3, 8, 3],\n",
      "       [2, 7, 9, 5],\n",
      "       [0, 2, 8, 8],\n",
      "       [6, 2, 6, 4]])]\n",
      "A4 =\n",
      " [[[0 0 0 0]\n",
      "  [3 1 4 1]\n",
      "  [5 9 2 6]\n",
      "  [5 3 5 8]]\n",
      "\n",
      " [[0 0 0 0]\n",
      "  [0 0 0 0]\n",
      "  [9 7 9 3]\n",
      "  [2 3 8 4]]\n",
      "\n",
      " [[3 3 8 3]\n",
      "  [2 7 9 5]\n",
      "  [0 2 8 8]\n",
      "  [6 2 6 4]]]\n"
     ]
    }
   ],
   "source": [
    "##Padding arrays at the top\n",
    "pad_above1 = 4 - len(a1)\n",
    "pad_above2 = 4 - len(a2)\n",
    "pad_above3 = 4 - len(a3)\n",
    "\n",
    "pad_below = 0\n",
    "pad_left = 0\n",
    "par_right = 0\n",
    "\n",
    "n_add = [((pad_above1, pad_below), (pad_left, par_right)), \n",
    "         ((pad_above2, pad_below), (pad_left, par_right)), \n",
    "         ((pad_above3, pad_below), (pad_left, par_right))]\n",
    "\n",
    "A4 = [np.pad(A[i], pad_width = n_add[i], mode = 'constant', constant_values = 0) for i in range(3)]\n",
    "A4 = np.array(A4)\n",
    "\n",
    "print(\"A =\\n\", A)\n",
    "\n",
    "print(\"A4 =\\n\", A4)"
   ]
  },
  {
   "cell_type": "code",
   "execution_count": null,
   "metadata": {
    "colab": {},
    "colab_type": "code",
    "id": "ird1N95xxF7u"
   },
   "outputs": [],
   "source": []
  }
 ],
 "metadata": {
  "colab": {
   "collapsed_sections": [],
   "name": "Fundamentals of Numpy.ipynb",
   "provenance": []
  },
  "kernelspec": {
   "display_name": "Python 3",
   "language": "python",
   "name": "python3"
  },
  "language_info": {
   "codemirror_mode": {
    "name": "ipython",
    "version": 3
   },
   "file_extension": ".py",
   "mimetype": "text/x-python",
   "name": "python",
   "nbconvert_exporter": "python",
   "pygments_lexer": "ipython3",
   "version": "3.7.7"
  }
 },
 "nbformat": 4,
 "nbformat_minor": 4
}
