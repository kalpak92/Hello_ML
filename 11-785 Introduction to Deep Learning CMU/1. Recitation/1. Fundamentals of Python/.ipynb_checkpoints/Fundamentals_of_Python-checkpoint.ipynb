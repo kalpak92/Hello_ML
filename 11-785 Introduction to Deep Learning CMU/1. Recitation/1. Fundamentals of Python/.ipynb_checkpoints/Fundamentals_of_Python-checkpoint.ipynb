{
 "cells": [
  {
   "cell_type": "markdown",
   "metadata": {
    "colab_type": "text",
    "id": "UUIPeZY_5nw_"
   },
   "source": [
    "# Recitation 0 - Introduction\n",
    "Welcome to the Recitation 0 for the Fall 2020 iteration of the course 11-785: Intro to Deep Learning. \n",
    "Recitation 0 is split into 3 bigger pictures, with every part divided into sub-parts. \n",
    "* Big Picture 1 (Recitation 0A, 0B, 0C) - Introduction to Python, Numpy, and Pytorch\n",
    "* Big Picture 2 (Recitation 0D, 0E)     - Introduction to AWS, Google Colab, and Jupyter\n",
    "* Big Picture 3 (Recitation 0F, 0G)     - Introduction to Debugging, Tensorboard, TSNE, and Visualization\n"
   ]
  },
  {
   "cell_type": "markdown",
   "metadata": {
    "colab_type": "text",
    "id": "usWyONEENSke"
   },
   "source": [
    "# *Recitation 0A - Introduction to Python*\n",
    "\n"
   ]
  },
  {
   "cell_type": "markdown",
   "metadata": {
    "colab_type": "text",
    "id": "wGc1kbgXQoLT"
   },
   "source": [
    "Python\n",
    "\n",
    "All information about python, from downloading to documentation, can be found here: https://www.python.org. We recommend that you use python 3 for the homeworks in this course."
   ]
  },
  {
   "cell_type": "markdown",
   "metadata": {
    "colab_type": "text",
    "id": "zDYp9r3FRCOI"
   },
   "source": [
    "External Modules\n",
    "\n",
    "Install external modules using the pip package manager(https://pypi.org/project/pip/). \n",
    "The main modules we'll be using in the course include  \n",
    "\n",
    "*   numpy\n",
    "*   torch (Pytorch)\n",
    "\n",
    "To check if both the modules got installed correctly, please type the below code in your terminal and check if some version comes up.\n",
    "\n",
    "```\n",
    "python -c \"import torch; print(torch.__version__)\"\n",
    "python -c \"import numpy; print(numpy.version.version)\"\n",
    "```\n",
    "\n"
   ]
  },
  {
   "cell_type": "markdown",
   "metadata": {
    "colab_type": "text",
    "id": "t9FINMJKTlQu"
   },
   "source": [
    "### Importing Modules code snippets"
   ]
  },
  {
   "cell_type": "code",
   "execution_count": 1,
   "metadata": {
    "colab": {},
    "colab_type": "code",
    "id": "TL-2zx-FTYWn"
   },
   "outputs": [],
   "source": [
    "import numpy\n",
    "a = numpy.array([1,2,3])\n",
    "\n",
    "import numpy as np\n",
    "a = np.array([1,2,3])\n",
    "\n",
    "from math import ceil\n",
    "\n",
    "from math import * "
   ]
  },
  {
   "cell_type": "markdown",
   "metadata": {
    "colab_type": "text",
    "id": "dT6Ft1G7VdnM"
   },
   "source": [
    "### File Formats and Loading Data\n",
    "\n",
    "\n",
    "\n",
    "*   .txt: plain text file\n",
    "*   .pkl: python objects\n",
    "*   .csv: tabular data - fields separated by commas\n",
    "*   .npy: numpy arrays (saved using numpy library)\n",
    "*   .npz: zipped archive of npy files"
   ]
  },
  {
   "cell_type": "code",
   "execution_count": 2,
   "metadata": {
    "colab": {
     "base_uri": "https://localhost:8080/",
     "height": 35
    },
    "colab_type": "code",
    "id": "XfuNy5irWjC_",
    "outputId": "57157b62-3430-4624-8e7c-767bb91c712f"
   },
   "outputs": [
    {
     "name": "stdout",
     "output_type": "stream",
     "text": [
      "['This is the first line of text.\\n', 'This is the second line of text.']\n"
     ]
    }
   ],
   "source": [
    "# traditional way of reading files with explicit open and close statements\n",
    "\n",
    "f = open(\"recitation0a.txt\", \"r\")\n",
    "print(f.readlines())\n",
    "f.close()"
   ]
  },
  {
   "cell_type": "code",
   "execution_count": 3,
   "metadata": {
    "colab": {
     "base_uri": "https://localhost:8080/",
     "height": 35
    },
    "colab_type": "code",
    "id": "hdb29mg3WlKU",
    "outputId": "b33057f9-9707-443b-ac8b-ee44e383dc73"
   },
   "outputs": [
    {
     "name": "stdout",
     "output_type": "stream",
     "text": [
      "['This is the first line of text.\\n', 'This is the second line of text.']\n"
     ]
    }
   ],
   "source": [
    "# no need to mention explict close statement in the \"with\" statement\n",
    "\n",
    "with open(\"recitation0a.txt\", \"r\") as f:\n",
    "    print(f.readlines())"
   ]
  },
  {
   "cell_type": "markdown",
   "metadata": {
    "colab_type": "text",
    "id": "9R9tnhl_WuMr"
   },
   "source": [
    "More about file access modes: https://stackoverflow.com/questions/16208206/confused-by-python-file-mode-w"
   ]
  },
  {
   "cell_type": "code",
   "execution_count": 5,
   "metadata": {
    "colab": {
     "base_uri": "https://localhost:8080/",
     "height": 284
    },
    "colab_type": "code",
    "id": "ywtui4QIXC1N",
    "outputId": "ea60f9d9-3d92-476e-9998-c003fc0c97f5"
   },
   "outputs": [
    {
     "name": "stdout",
     "output_type": "stream",
     "text": [
      "['Year', 'Variable_name', 'Variable_category', 'Value']\n",
      "['2018', 'Total income', 'Financial performance', '691859']\n",
      "['2018', 'Sales, government funding, grants and subsidies', 'Financial performance', '605766']\n",
      "['2018', 'Interest, dividends and donations', 'Financial performance', '63509']\n",
      "['2018', 'Non-operating income', 'Financial performance', '22583']\n",
      "['2018', 'Total expenditure', 'Financial performance', '597623']\n",
      "['2018', 'Interest and donations', 'Financial performance', '34223']\n",
      "['2018', 'Indirect taxes', 'Financial performance', '7124']\n",
      "['2018', 'Depreciation', 'Financial performance', '19863']\n",
      "['2018', 'Salaries and wages paid', 'Financial performance', '106351']\n",
      "['2018', 'Redundancy and severance', 'Financial performance', '297']\n",
      "['2018', 'Salaries and wages to self employed commission agents', 'Financial performance', '1659']\n",
      "['2018', 'Purchases and other operating expenses', 'Financial performance', '418642']\n",
      "['2018', 'Non-operating expenses', 'Financial performance', '9762']\n",
      "['2018', 'Opening stocks', 'Financial performance', '59433']\n"
     ]
    }
   ],
   "source": [
    "# to read a csv file\n",
    "\n",
    "import csv\n",
    "\n",
    "with open (\"sampledata.csv\", \"r\") as f:\n",
    "    reader = csv.reader(f, delimiter=\",\")\n",
    "    \n",
    "    for row in reader:\n",
    "        print(row)"
   ]
  },
  {
   "cell_type": "code",
   "execution_count": 7,
   "metadata": {
    "colab": {},
    "colab_type": "code",
    "id": "SUZA7TnW-2kl"
   },
   "outputs": [
    {
     "name": "stdout",
     "output_type": "stream",
     "text": [
      "{'student1': 'Alice', 'Student2': 'Bob', 'Student3': 'Rachel'}\n"
     ]
    }
   ],
   "source": [
    "import pickle\n",
    "\n",
    "mydict = {\"student1\": \"Alice\", \"Student2\": \"Bob\", \"Student3\": \"Rachel\"}\n",
    "\n",
    "pickle.dump(mydict, open(\"store.pkl\", \"wb\"))\n",
    "\n",
    "loaded = pickle.load(open(\"store.pkl\", \"rb\"))\n",
    "print(loaded)"
   ]
  },
  {
   "cell_type": "markdown",
   "metadata": {
    "colab_type": "text",
    "id": "W9NyFYBd6JI3"
   },
   "source": [
    "### Data Storing\n",
    "\n",
    "\n",
    " - lists: generic container - allow for numeric indexing\n",
    " - tuples: immutable lists\n",
    " - dictionaries: keys act as indices - keys must be unique\n",
    " - sets: group of unique elements"
   ]
  },
  {
   "cell_type": "code",
   "execution_count": 8,
   "metadata": {
    "colab": {
     "base_uri": "https://localhost:8080/",
     "height": 70
    },
    "colab_type": "code",
    "executionInfo": {
     "elapsed": 310,
     "status": "ok",
     "timestamp": 1596297649270,
     "user": {
      "displayName": "Mansi Anand",
      "photoUrl": "https://lh3.googleusercontent.com/a-/AOh14Ggzxia0-urmaRRExsxlTB9Is0VHqWUfzpPKPn44=s64",
      "userId": "02877160565036283399"
     },
     "user_tz": 240
    },
    "id": "r3_fTgQqb_Ih",
    "outputId": "1e7927d2-a14b-4d6a-997e-7f8af70536bc"
   },
   "outputs": [
    {
     "name": "stdout",
     "output_type": "stream",
     "text": [
      "89\n",
      "7\n",
      "[\"I'm new\", 3, 4, 89, 23, 43, 90]\n"
     ]
    }
   ],
   "source": [
    "same_type_list = [1, 3, 4, 89, 23, 43, 90]\n",
    "diff_type_list = [1, 3, \"hello\", 4.9, \"c\"]\n",
    "\n",
    "print(same_type_list[3])\n",
    "print(len(same_type_list))\n",
    "\n",
    "same_type_list[0] = \"I'm new\"\n",
    "print(same_type_list)"
   ]
  },
  {
   "cell_type": "code",
   "execution_count": 9,
   "metadata": {
    "colab": {
     "base_uri": "https://localhost:8080/",
     "height": 35
    },
    "colab_type": "code",
    "executionInfo": {
     "elapsed": 572,
     "status": "ok",
     "timestamp": 1596297552037,
     "user": {
      "displayName": "Mansi Anand",
      "photoUrl": "https://lh3.googleusercontent.com/a-/AOh14Ggzxia0-urmaRRExsxlTB9Is0VHqWUfzpPKPn44=s64",
      "userId": "02877160565036283399"
     },
     "user_tz": 240
    },
    "id": "iChZqwAqcJAO",
    "outputId": "7cf43260-ba7e-48b3-927f-02549c44b712"
   },
   "outputs": [
    {
     "name": "stdout",
     "output_type": "stream",
     "text": [
      "[\"I'm new\", 3, 4, 89, 23, 43, 90, 1, 3, 'hello', 4.9, 'c']\n"
     ]
    }
   ],
   "source": [
    "# Concatenation\n",
    "new_list = same_type_list + diff_type_list\n",
    "print(new_list)"
   ]
  },
  {
   "cell_type": "code",
   "execution_count": 10,
   "metadata": {
    "colab": {
     "base_uri": "https://localhost:8080/",
     "height": 35
    },
    "colab_type": "code",
    "id": "f1Yy_fwUcLEc",
    "outputId": "5c1597ae-0233-4395-b6c3-e9858ad81988"
   },
   "outputs": [
    {
     "name": "stdout",
     "output_type": "stream",
     "text": [
      "['hi', 'hello', 'hi', 'hello']\n"
     ]
    }
   ],
   "source": [
    "new_list_2 = [\"hi\", \"hello\"] * 2\n",
    "print(new_list_2)"
   ]
  },
  {
   "cell_type": "code",
   "execution_count": 11,
   "metadata": {
    "colab": {
     "base_uri": "https://localhost:8080/",
     "height": 52
    },
    "colab_type": "code",
    "executionInfo": {
     "elapsed": 357,
     "status": "ok",
     "timestamp": 1596297606231,
     "user": {
      "displayName": "Mansi Anand",
      "photoUrl": "https://lh3.googleusercontent.com/a-/AOh14Ggzxia0-urmaRRExsxlTB9Is0VHqWUfzpPKPn44=s64",
      "userId": "02877160565036283399"
     },
     "user_tz": 240
    },
    "id": "zN5dQvkrcNUa",
    "outputId": "0f679926-66c5-4fe7-d961-6ac32b17279c"
   },
   "outputs": [
    {
     "name": "stdout",
     "output_type": "stream",
     "text": [
      "foo\n",
      "10\n"
     ]
    }
   ],
   "source": [
    "same_type_tuple = (1, 10, 7)\n",
    "diff_type_tuple = (1, 2, \"foo\") \n",
    "\n",
    "print(diff_type_tuple[2])\n",
    "print(same_type_tuple[1])\n",
    "\n",
    "# same_type_tuple[0] = 3"
   ]
  },
  {
   "cell_type": "code",
   "execution_count": 12,
   "metadata": {
    "colab": {
     "base_uri": "https://localhost:8080/",
     "height": 70
    },
    "colab_type": "code",
    "executionInfo": {
     "elapsed": 344,
     "status": "ok",
     "timestamp": 1596297667446,
     "user": {
      "displayName": "Mansi Anand",
      "photoUrl": "https://lh3.googleusercontent.com/a-/AOh14Ggzxia0-urmaRRExsxlTB9Is0VHqWUfzpPKPn44=s64",
      "userId": "02877160565036283399"
     },
     "user_tz": 240
    },
    "id": "m3e4VQOhco5k",
    "outputId": "92a0d614-d386-46e3-f838-dc03b4152d28"
   },
   "outputs": [
    {
     "name": "stdout",
     "output_type": "stream",
     "text": [
      "10\n",
      "1\n",
      "[1, 7, 10]\n"
     ]
    }
   ],
   "source": [
    "# some more list/tuple functions\n",
    "\n",
    "print(max(same_type_tuple))\n",
    "print(min(same_type_tuple))\n",
    "print(sorted(same_type_tuple))\n",
    "\n",
    "#print(min(same_type_list))"
   ]
  },
  {
   "cell_type": "code",
   "execution_count": 18,
   "metadata": {
    "colab": {
     "base_uri": "https://localhost:8080/",
     "height": 52
    },
    "colab_type": "code",
    "executionInfo": {
     "elapsed": 338,
     "status": "ok",
     "timestamp": 1596297804038,
     "user": {
      "displayName": "Mansi Anand",
      "photoUrl": "https://lh3.googleusercontent.com/a-/AOh14Ggzxia0-urmaRRExsxlTB9Is0VHqWUfzpPKPn44=s64",
      "userId": "02877160565036283399"
     },
     "user_tz": 240
    },
    "id": "eFLbsSkLcS1s",
    "outputId": "fbb664bd-72c8-462d-fc1f-fea06df28698"
   },
   "outputs": [
    {
     "name": "stdout",
     "output_type": "stream",
     "text": [
      "Alice\n",
      "student does not exist\n"
     ]
    }
   ],
   "source": [
    "my_dict = {\"student1\": \"Alice\", \"student2\": \"Bob\", \"student3\": \"Rachel\"}\n",
    "\n",
    "print(my_dict[\"student1\"])\n",
    "# print(my_dict[0])         # No Index Based searching\n",
    "# print(my_dict[\"student4\"])\n",
    "\n",
    "# Sensible Error message generation using .get() \n",
    "print(my_dict.get(\"student4\", \"student does not exist\"))"
   ]
  },
  {
   "cell_type": "code",
   "execution_count": 14,
   "metadata": {
    "colab": {
     "base_uri": "https://localhost:8080/",
     "height": 35
    },
    "colab_type": "code",
    "id": "mugMOPnBchZL",
    "outputId": "110dc4c7-a7a7-486c-8a0e-f79c8b0d9168"
   },
   "outputs": [
    {
     "name": "stdout",
     "output_type": "stream",
     "text": [
      "{'student1': 'Billy', 'student2': 'Bob', 'student3': 'Rachel'}\n"
     ]
    }
   ],
   "source": [
    "my_dict[\"student1\"] = \"Billy\"\n",
    "print(my_dict)"
   ]
  },
  {
   "cell_type": "code",
   "execution_count": 19,
   "metadata": {
    "colab": {
     "base_uri": "https://localhost:8080/",
     "height": 35
    },
    "colab_type": "code",
    "executionInfo": {
     "elapsed": 282,
     "status": "ok",
     "timestamp": 1596297844099,
     "user": {
      "displayName": "Mansi Anand",
      "photoUrl": "https://lh3.googleusercontent.com/a-/AOh14Ggzxia0-urmaRRExsxlTB9Is0VHqWUfzpPKPn44=s64",
      "userId": "02877160565036283399"
     },
     "user_tz": 240
    },
    "id": "z2MU9sJlcjj_",
    "outputId": "0fc620c8-cdc5-4ace-8b51-8828222bcfac"
   },
   "outputs": [
    {
     "name": "stdout",
     "output_type": "stream",
     "text": [
      "{'obj1', 'obj2', 'obj3'}\n"
     ]
    }
   ],
   "source": [
    "my_set = {\"obj1\", \"obj2\", \"obj3\"}\n",
    "print(my_set)\n",
    "# print(my_set[1]) "
   ]
  },
  {
   "cell_type": "markdown",
   "metadata": {},
   "source": [
    "### Random"
   ]
  },
  {
   "cell_type": "code",
   "execution_count": null,
   "metadata": {
    "colab": {
     "base_uri": "https://localhost:8080/",
     "height": 35
    },
    "colab_type": "code",
    "executionInfo": {
     "elapsed": 454,
     "status": "ok",
     "timestamp": 1596218528359,
     "user": {
      "displayName": "Mansi Anand",
      "photoUrl": "https://lh3.googleusercontent.com/a-/AOh14Ggzxia0-urmaRRExsxlTB9Is0VHqWUfzpPKPn44=s64",
      "userId": "02877160565036283399"
     },
     "user_tz": 240
    },
    "id": "qrA3WPXobCKa",
    "outputId": "ff12f6ce-3a85-41e2-a48b-58a0a9f6b1cc"
   },
   "outputs": [
    {
     "name": "stdout",
     "output_type": "stream",
     "text": [
      "CANADA\n"
     ]
    }
   ],
   "source": [
    "# use of random in selecting data from dictionaries\n",
    "\n",
    "import random\n",
    "countries = {'VENEZUELA':'CARACAS', 'CANADA':'OTTAWA'}\n",
    "bex = random.choice(list(countries))\n",
    "print(bex)"
   ]
  },
  {
   "cell_type": "markdown",
   "metadata": {
    "colab_type": "text",
    "id": "0LQGSXf3C0CG"
   },
   "source": [
    "More about Random: https://docs.python.org/3/library/random.html"
   ]
  },
  {
   "cell_type": "markdown",
   "metadata": {},
   "source": [
    "### List of lists to numpy array"
   ]
  },
  {
   "cell_type": "code",
   "execution_count": 20,
   "metadata": {
    "colab": {
     "base_uri": "https://localhost:8080/",
     "height": 52
    },
    "colab_type": "code",
    "id": "ExQUsiQ2au2m",
    "outputId": "d6d1ae99-e86a-48b5-c192-76e08f90198e"
   },
   "outputs": [
    {
     "name": "stdout",
     "output_type": "stream",
     "text": [
      "(2, 2, 3)\n",
      "[0, 1, 2]\n"
     ]
    }
   ],
   "source": [
    "some_array = [[[64,64,32],\n",
    "                 [22,23,24]],\n",
    "                [[64,4,32],\n",
    "                 [22,3,24]]\n",
    "               ]\n",
    "some_array = np.asarray(some_array)\n",
    "print(some_array.shape)\n",
    "\n",
    "another_array = list(range(3))\n",
    "print(another_array)"
   ]
  },
  {
   "cell_type": "markdown",
   "metadata": {
    "colab_type": "text",
    "id": "ZRxioqko6hcZ"
   },
   "source": [
    "### Filtering Lists\n",
    "\n",
    "1. Slicing and Dicing\n",
    "2. List comprehensions"
   ]
  },
  {
   "cell_type": "code",
   "execution_count": null,
   "metadata": {
    "colab": {
     "base_uri": "https://localhost:8080/",
     "height": 70
    },
    "colab_type": "code",
    "id": "JWmpXvsNfzaa",
    "outputId": "8410f54b-e53c-4785-d86a-e0e8416ef054"
   },
   "outputs": [
    {
     "name": "stdout",
     "output_type": "stream",
     "text": [
      "[9, 76, 80, 21, 53]\n",
      "[2, 5, 2]\n",
      "[45, 9, 80]\n"
     ]
    }
   ],
   "source": [
    "# slicing & dicing\n",
    "# general format: sliced_list = [start_idx : end_idx+1 : step]\n",
    "\n",
    "some_list = [2, 5, 2, 45, 7, 9, 76, 80, 21, 53]\n",
    "print(some_list[5:])\n",
    "print(some_list[:3])\n",
    "print(some_list[3:9:2])"
   ]
  },
  {
   "cell_type": "markdown",
   "metadata": {
    "colab_type": "text",
    "id": "o0wWFV90gJqZ"
   },
   "source": [
    "### Slicing with 2D and 3D arrays\n",
    "\n",
    "3D arrays are indexed across the 3 dimensions as follows:\n",
    "\n",
    "![3D array](3d-array-stack.png)\n",
    "\n",
    "Where if you consider your 3D array to be a stack of matrices, i selects the matrix, j selects the row in that matrix and k selects the column in that matrix."
   ]
  },
  {
   "cell_type": "code",
   "execution_count": 22,
   "metadata": {
    "colab": {
     "base_uri": "https://localhost:8080/",
     "height": 212
    },
    "colab_type": "code",
    "executionInfo": {
     "elapsed": 365,
     "status": "ok",
     "timestamp": 1596298142869,
     "user": {
      "displayName": "Mansi Anand",
      "photoUrl": "https://lh3.googleusercontent.com/a-/AOh14Ggzxia0-urmaRRExsxlTB9Is0VHqWUfzpPKPn44=s64",
      "userId": "02877160565036283399"
     },
     "user_tz": 240
    },
    "id": "gHVjdegOgJRs",
    "outputId": "376186d7-86ea-4d18-a40b-6956e9e24713"
   },
   "outputs": [
    {
     "name": "stdout",
     "output_type": "stream",
     "text": [
      "[[[10 11 12]\n",
      "  [13 14 15]\n",
      "  [16 17 18]]\n",
      "\n",
      " [[20 21 22]\n",
      "  [23 24 25]\n",
      "  [26 27 28]]\n",
      "\n",
      " [[30 31 32]\n",
      "  [33 34 35]\n",
      "  [36 37 38]]]\n"
     ]
    }
   ],
   "source": [
    "# slicing 3D array examples:\n",
    "\n",
    "three_d_array = np.array([[[10, 11, 12], [13, 14, 15], [16, 17, 18]],\n",
    "               [[20, 21, 22], [23, 24, 25], [26, 27, 28]],\n",
    "               [[30, 31, 32], [33, 34, 35], [36, 37, 38]]])\n",
    "\n",
    "print(three_d_array)"
   ]
  },
  {
   "cell_type": "code",
   "execution_count": 27,
   "metadata": {
    "colab": {
     "base_uri": "https://localhost:8080/",
     "height": 35
    },
    "colab_type": "code",
    "executionInfo": {
     "elapsed": 371,
     "status": "ok",
     "timestamp": 1596298168727,
     "user": {
      "displayName": "Mansi Anand",
      "photoUrl": "https://lh3.googleusercontent.com/a-/AOh14Ggzxia0-urmaRRExsxlTB9Is0VHqWUfzpPKPn44=s64",
      "userId": "02877160565036283399"
     },
     "user_tz": 240
    },
    "id": "kpYtd9rcg3ok",
    "outputId": "3622ab51-1501-4178-efa1-582fc8e6bcb6"
   },
   "outputs": [
    {
     "name": "stdout",
     "output_type": "stream",
     "text": [
      "[16 17 18]\n",
      "\n",
      "[[[10 11 12]\n",
      "  [13 14 15]\n",
      "  [16 17 18]]\n",
      "\n",
      " [[20 21 22]\n",
      "  [23 24 25]\n",
      "  [26 27 28]]]\n"
     ]
    }
   ],
   "source": [
    "# ------------ selecting a row ------------\n",
    "# you want to specify the matrix, then the row\n",
    "# Note the difference a comma and a colon\n",
    "\n",
    "print(three_d_array[0,2]) # matrix 0, row 2\n",
    "print()\n",
    "print(three_d_array[0:2])"
   ]
  },
  {
   "cell_type": "code",
   "execution_count": 28,
   "metadata": {
    "colab": {
     "base_uri": "https://localhost:8080/",
     "height": 35
    },
    "colab_type": "code",
    "id": "nNTB1p4Qg5V1",
    "outputId": "b5c82cc5-8812-45b8-cbe2-e52bf8a50ae4"
   },
   "outputs": [
    {
     "name": "stdout",
     "output_type": "stream",
     "text": [
      "[21 24 27]\n"
     ]
    }
   ],
   "source": [
    "# ------------ selecting a column ------------\n",
    "# you want to specify the matrix, ignore the row, and then specify the column\n",
    "\n",
    "print(three_d_array[1, :, 1]) # matrix 1, column 1"
   ]
  },
  {
   "cell_type": "code",
   "execution_count": 29,
   "metadata": {
    "colab": {
     "base_uri": "https://localhost:8080/",
     "height": 70
    },
    "colab_type": "code",
    "id": "madPCU5dg88N",
    "outputId": "3757fc3e-ddb3-47f5-9f1a-db9a1f434758"
   },
   "outputs": [
    {
     "name": "stdout",
     "output_type": "stream",
     "text": [
      "[[30 31 32]\n",
      " [33 34 35]\n",
      " [36 37 38]]\n"
     ]
    }
   ],
   "source": [
    "# ------------ selecting a matrix ------------\n",
    "\n",
    "print(three_d_array[2]) # matrix 2"
   ]
  },
  {
   "cell_type": "code",
   "execution_count": 30,
   "metadata": {
    "colab": {
     "base_uri": "https://localhost:8080/",
     "height": 35
    },
    "colab_type": "code",
    "id": "WbMG5Ul1g_Qd",
    "outputId": "036e5a4a-9d8d-4839-ea8f-3780f71df469"
   },
   "outputs": [
    {
     "name": "stdout",
     "output_type": "stream",
     "text": [
      "[15 25 35]\n"
     ]
    }
   ],
   "source": [
    "# ------------ creating a row across matrices ------------\n",
    "print(three_d_array[:, 1, 2]) # for every matrix, row 1, column 2 "
   ]
  },
  {
   "cell_type": "code",
   "execution_count": 31,
   "metadata": {
    "colab": {
     "base_uri": "https://localhost:8080/",
     "height": 70
    },
    "colab_type": "code",
    "id": "xa68z36WhBCW",
    "outputId": "45fad07e-e529-4e08-e848-52fd47aaa05f"
   },
   "outputs": [
    {
     "name": "stdout",
     "output_type": "stream",
     "text": [
      "[[13 14 15]\n",
      " [23 24 25]\n",
      " [33 34 35]]\n"
     ]
    }
   ],
   "source": [
    "# ------------ creating a matrix from rows ------------\n",
    "print(three_d_array[:, 1]) # for every matrix, row 1"
   ]
  },
  {
   "cell_type": "code",
   "execution_count": 32,
   "metadata": {
    "colab": {
     "base_uri": "https://localhost:8080/",
     "height": 70
    },
    "colab_type": "code",
    "id": "1UNEAbf2hEP0",
    "outputId": "7efe2ff1-b948-4a79-edab-555060e23653"
   },
   "outputs": [
    {
     "name": "stdout",
     "output_type": "stream",
     "text": [
      "[[11 14 17]\n",
      " [21 24 27]\n",
      " [31 34 37]]\n"
     ]
    }
   ],
   "source": [
    "# ------------ creating a matrix from columns ------------\n",
    "print(three_d_array[:, :, 1]) # for every matrix, for every row, column 1"
   ]
  },
  {
   "cell_type": "markdown",
   "metadata": {
    "colab_type": "text",
    "id": "Awiwx-9phG4j"
   },
   "source": [
    "You can also slice within rows, columns and matrices in a 3D array, the same way you would in 1D arrays.\n",
    "\n",
    "### List Comprehensions"
   ]
  },
  {
   "cell_type": "code",
   "execution_count": 34,
   "metadata": {
    "colab": {
     "base_uri": "https://localhost:8080/",
     "height": 35
    },
    "colab_type": "code",
    "id": "eBt6ZT26hJaa",
    "outputId": "c3542056-da16-4f47-d579-8fa86b8e3b6b"
   },
   "outputs": [
    {
     "name": "stdout",
     "output_type": "stream",
     "text": [
      "[3, 4, 89, 23, 43, 90]\n"
     ]
    }
   ],
   "source": [
    "# general format: new_list = [expression for_loop_one_or_more condtions]\n",
    "\n",
    "res = [num for num in same_type_list if isinstance(num, int) and num>0]\n",
    "print(res)"
   ]
  },
  {
   "cell_type": "code",
   "execution_count": 35,
   "metadata": {
    "colab": {
     "base_uri": "https://localhost:8080/",
     "height": 52
    },
    "colab_type": "code",
    "executionInfo": {
     "elapsed": 6820,
     "status": "ok",
     "timestamp": 1596298285206,
     "user": {
      "displayName": "Mansi Anand",
      "photoUrl": "https://lh3.googleusercontent.com/a-/AOh14Ggzxia0-urmaRRExsxlTB9Is0VHqWUfzpPKPn44=s64",
      "userId": "02877160565036283399"
     },
     "user_tz": 240
    },
    "id": "5cy_Ub4xhNDd",
    "outputId": "99195225-e3e0-49b3-aa4e-ba0f5c37603a"
   },
   "outputs": [
    {
     "name": "stdout",
     "output_type": "stream",
     "text": [
      "14.8 µs ± 409 ns per loop (mean ± std. dev. of 7 runs, 100000 loops each)\n"
     ]
    }
   ],
   "source": [
    "%%timeit \n",
    "\n",
    "res2 = []\n",
    "res2 = [i for i in range(500)]"
   ]
  },
  {
   "cell_type": "code",
   "execution_count": 36,
   "metadata": {
    "colab": {
     "base_uri": "https://localhost:8080/",
     "height": 35
    },
    "colab_type": "code",
    "executionInfo": {
     "elapsed": 1679,
     "status": "ok",
     "timestamp": 1596298291087,
     "user": {
      "displayName": "Mansi Anand",
      "photoUrl": "https://lh3.googleusercontent.com/a-/AOh14Ggzxia0-urmaRRExsxlTB9Is0VHqWUfzpPKPn44=s64",
      "userId": "02877160565036283399"
     },
     "user_tz": 240
    },
    "id": "9VYsHr5phO8Q",
    "outputId": "25df7e14-a1e9-4e3b-e188-0338cdc7feef"
   },
   "outputs": [
    {
     "name": "stdout",
     "output_type": "stream",
     "text": [
      "31.3 µs ± 278 ns per loop (mean ± std. dev. of 7 runs, 10000 loops each)\n"
     ]
    }
   ],
   "source": [
    "%%timeit\n",
    "\n",
    "res3 = []\n",
    "for i in range(500):\n",
    "    res3.append(i)"
   ]
  },
  {
   "cell_type": "markdown",
   "metadata": {
    "colab_type": "text",
    "id": "FcvjZCWG6leq"
   },
   "source": [
    "# Classes\n",
    "\n",
    "You'll use classes extensively in the homeworks in this course. You will need classes for defining your models as well as your datasets. We'll consider an example of implementing the dataset class here."
   ]
  },
  {
   "cell_type": "code",
   "execution_count": null,
   "metadata": {
    "colab": {},
    "colab_type": "code",
    "id": "Mc85weLphWqB"
   },
   "outputs": [],
   "source": [
    "from torch.utils.data import Dataset\n",
    "\n",
    "class MyDataset(Dataset):\n",
    "    def __init__(self, x, y):\n",
    "        self.x = x\n",
    "        self.y = y\n",
    "        \n",
    "    def __getitem__(self, index):    \n",
    "        return (self.x[index], self.y[index])\n",
    "    \n",
    "    def __len__(self):\n",
    "        return len(self.x) "
   ]
  },
  {
   "cell_type": "markdown",
   "metadata": {
    "colab_type": "text",
    "id": "i-JZ2srm6wMy"
   },
   "source": [
    "# Debugging\n",
    "\n",
    "You'll we extensively using pdb for debugging across the entire semester, especially in Part 2s. Few useful debugging shortcuts:\n",
    "\n",
    "* n - next statement (excludes function calls)\n",
    "* s - step into (includes function calls)\n",
    "* q - quit\n",
    "* b - breakpoints\n",
    "\n",
    "You can read more about pdb and its commands here https://docs.python.org/3/library/pdb.html"
   ]
  },
  {
   "cell_type": "code",
   "execution_count": null,
   "metadata": {
    "colab": {
     "base_uri": "https://localhost:8080/",
     "height": 479
    },
    "colab_type": "code",
    "id": "x1WXq43UhmLh",
    "outputId": "3f57e3b4-ae93-4ab9-faa7-c71aaa0959a3"
   },
   "outputs": [
    {
     "name": "stdout",
     "output_type": "stream",
     "text": [
      "> <ipython-input-37-b00ef2ee1653>(8)<module>()\n",
      "-> print(\"this is iteration \" + str(i))\n",
      "(Pdb) n\n",
      "this is iteration 0\n",
      "> <ipython-input-37-b00ef2ee1653>(6)<module>()\n",
      "-> for i in range(3):\n",
      "(Pdb) s\n",
      "> <ipython-input-37-b00ef2ee1653>(7)<module>()\n",
      "-> pdb.set_trace()\n",
      "(Pdb) s\n",
      "--Call--\n",
      "> /usr/lib/python3.6/pdb.py(1584)set_trace()\n",
      "-> def set_trace():\n",
      "(Pdb) s\n",
      "> /usr/lib/python3.6/pdb.py(1585)set_trace()\n",
      "-> Pdb().set_trace(sys._getframe().f_back)\n",
      "(Pdb) n\n",
      "--Return--\n",
      "> /usr/lib/python3.6/pdb.py(1585)set_trace()->None\n",
      "-> Pdb().set_trace(sys._getframe().f_back)\n",
      "(Pdb) c\n",
      "this is iteration 1\n",
      "> <ipython-input-37-b00ef2ee1653>(8)<module>()\n",
      "-> print(\"this is iteration \" + str(i))\n",
      "(Pdb) c\n",
      "this is iteration 2\n"
     ]
    }
   ],
   "source": [
    "# notice the use of \"n\", \"s\", \"c\" when pdb sets the trace. \n",
    "# If \"s\" is commanded, it would go inside the set_trace() method\n",
    "# If you need to step out, just command \"c\"\n",
    "\n",
    "import pdb\n",
    "\n",
    "for i in range(3):\n",
    "    pdb.set_trace()\n",
    "    print(\"this is iteration \" + str(i))"
   ]
  },
  {
   "cell_type": "code",
   "execution_count": null,
   "metadata": {
    "colab": {},
    "colab_type": "code",
    "id": "F-DhbyGiaGyl"
   },
   "outputs": [],
   "source": []
  }
 ],
 "metadata": {
  "colab": {
   "collapsed_sections": [],
   "name": "Fundamentals_of_Python.ipynb",
   "provenance": []
  },
  "kernelspec": {
   "display_name": "Python 3",
   "language": "python",
   "name": "python3"
  },
  "language_info": {
   "codemirror_mode": {
    "name": "ipython",
    "version": 3
   },
   "file_extension": ".py",
   "mimetype": "text/x-python",
   "name": "python",
   "nbconvert_exporter": "python",
   "pygments_lexer": "ipython3",
   "version": "3.7.7"
  }
 },
 "nbformat": 4,
 "nbformat_minor": 4
}
